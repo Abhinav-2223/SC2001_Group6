{
 "cells": [
  {
   "cell_type": "markdown",
   "id": "c5042d31",
   "metadata": {},
   "source": [
    "# SC2001 SCED Group 6 Project 2"
   ]
  },
  {
   "cell_type": "markdown",
   "id": "7d6cefa4",
   "metadata": {},
   "source": [
    "In the Dijkstra’s algorithm, the choice of the input graph representation   \n",
    "and the priority queue implementation will affect its time complexity."
   ]
  },
  {
   "cell_type": "markdown",
   "id": "7136ba58",
   "metadata": {},
   "source": [
    "### (a) Dijkstra's Algorithm Implementation 1: "
   ]
  },
  {
   "cell_type": "code",
   "execution_count": null,
   "id": "16398db9",
   "metadata": {
    "vscode": {
     "languageId": "plaintext"
    }
   },
   "outputs": [],
   "source": []
  },
  {
   "cell_type": "markdown",
   "id": "33dee0f7",
   "metadata": {},
   "source": [
    "### (b) Dijkstra's Algorithm Implementation 2: "
   ]
  },
  {
   "cell_type": "code",
   "execution_count": null,
   "id": "6c67fb0e",
   "metadata": {
    "vscode": {
     "languageId": "plaintext"
    }
   },
   "outputs": [],
   "source": []
  },
  {
   "cell_type": "markdown",
   "id": "f2f5a8aa",
   "metadata": {},
   "source": [
    "### (c) Discuss which implementation (a) or (b), is better and in what circumstances.  \n",
    " "
   ]
  },
  {
   "cell_type": "markdown",
   "id": "5f43469e",
   "metadata": {},
   "source": [
    "##### What criteria to consider: "
   ]
  },
  {
   "cell_type": "markdown",
   "id": "4655d6bb",
   "metadata": {},
   "source": []
  },
  {
   "cell_type": "markdown",
   "id": "938016fc",
   "metadata": {},
   "source": [
    "##### Why ( ) is better: "
   ]
  },
  {
   "cell_type": "markdown",
   "id": "d66aa691",
   "metadata": {},
   "source": []
  }
 ],
 "metadata": {
  "language_info": {
   "name": "python"
  }
 },
 "nbformat": 4,
 "nbformat_minor": 5
}
