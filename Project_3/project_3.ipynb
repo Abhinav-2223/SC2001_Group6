{
 "cells": [
  {
   "cell_type": "markdown",
   "id": "4b8bf5e2",
   "metadata": {},
   "source": [
    "# SC2001 SCED Group 6 Project 3"
   ]
  },
  {
   "cell_type": "markdown",
   "id": "6cb1f1b5",
   "metadata": {},
   "source": [
    "### Dynamic Programming \n"
   ]
  },
  {
   "cell_type": "markdown",
   "id": "17671a57",
   "metadata": {},
   "source": [
    "(1) Recursuve definition of P(c)"
   ]
  },
  {
   "cell_type": "markdown",
   "id": "c040f69d",
   "metadata": {},
   "source": []
  }
 ],
 "metadata": {
  "language_info": {
   "name": "python"
  }
 },
 "nbformat": 4,
 "nbformat_minor": 5
}
