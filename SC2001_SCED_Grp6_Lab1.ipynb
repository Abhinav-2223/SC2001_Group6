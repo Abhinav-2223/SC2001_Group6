{
 "cells": [
  {
   "cell_type": "markdown",
   "id": "8afee0d7",
   "metadata": {},
   "source": [
    "# SC2001 SCED Group 6 Presentation"
   ]
  },
  {
   "cell_type": "code",
   "execution_count": null,
   "id": "bd171077",
   "metadata": {
    "vscode": {
     "languageId": "plaintext"
    }
   },
   "outputs": [],
   "source": []
  }
 ],
 "metadata": {
  "language_info": {
   "name": "python"
  }
 },
 "nbformat": 4,
 "nbformat_minor": 5
}
