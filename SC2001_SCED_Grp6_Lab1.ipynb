{
 "cells": [
  {
   "cell_type": "markdown",
   "id": "8afee0d7",
   "metadata": {},
   "source": [
    "# SC2001 SCED Group 6 Project 1 "
   ]
  },
  {
   "cell_type": "markdown",
   "id": "b28cac26",
   "metadata": {},
   "source": [
    "### Problem: \n",
    "- In Mergesort, when the sizes of subarrays are small, the overhead of many recursive \n",
    "calls  makes  the  algorithm  inefficient.  \n",
    "- Therefore,  in  real  use,  we  often  combine Mergesort with Insertion Sort to come up with a hybrid sorting algorithm for better efficiency. \n",
    "\n",
    "The idea is to set a small integer S as a threshold for the size of subarrays.   \n",
    "Once the size of a subarray in a recursive call of Mergesort is less than or equal to S, \n",
    "the algorithm will switch to Insertion Sort, which is efficient for small-sized input. "
   ]
  },
  {
   "cell_type": "markdown",
   "id": "e31e36e5",
   "metadata": {},
   "source": [
    "### Code for Insertion Sort:"
   ]
  },
  {
   "cell_type": "code",
   "execution_count": 8,
   "id": "6e00fff4",
   "metadata": {},
   "outputs": [],
   "source": [
    "def insertion_sort(arr):\n",
    "    comparisons = 0 # initialize comparison counter\n",
    "\n",
    "    for i in range(1, len(arr)): # traverse through the array\n",
    "        key = arr[i]        # current element\n",
    "        j = i - 1           # previous element\n",
    "        while j >= 0:\n",
    "            comparisons += 1            # increment comparison counter\n",
    "            if key < arr[j]:            # check if key is less than element j, if yes :\n",
    "                arr[j + 1] = arr[j]         # shift element j to the right\n",
    "                j -= 1                      # move to the previous element, until all elements before i are checked\n",
    "            else:\n",
    "                break                       # if key is not less than arr[j], break the while loop\n",
    "        arr[j + 1] = key            # place key right after j\n",
    "\n",
    "    return arr, comparisons"
   ]
  },
  {
   "cell_type": "markdown",
   "id": "9a611efc",
   "metadata": {},
   "source": [
    "### Code for MergeSort: "
   ]
  },
  {
   "cell_type": "code",
   "execution_count": 3,
   "id": "9bce62fd",
   "metadata": {},
   "outputs": [],
   "source": [
    "def mergesort(A):\n",
    "    if (len(A) <= 1): \n",
    "        return A\n",
    "    mid = len(A) // 2 # find the middle index\n",
    "     # recursively sort the two halves\n",
    "    A1 = mergesort(A[:mid])\n",
    "    A2 = mergesort(A[mid:])\n",
    "        # merge the two sorted halves\n",
    "    return merge(A1, A2)\n",
    "\n",
    "\n",
    "def merge(A1, A2):\n",
    "    i, j = 0, 0 # pointers to current index in A1 and A2\n",
    "\n",
    "    sorted = [] # initialize empty list to store the sorted elements\n",
    "\n",
    "    while i < len(A1) and j < len(A2):\n",
    "        if A1[i] < A2[j]: # compare elements from both arrays and append the smaller one to the sorted list\n",
    "            sorted.append(A1[i])\n",
    "            i += 1\n",
    "        else:\n",
    "            sorted.append(A2[j])\n",
    "            j += 1\n",
    "    sorted.extend(A1[i:])\n",
    "    sorted.extend(A2[j:])\n",
    "    return sorted"
   ]
  },
  {
   "cell_type": "markdown",
   "id": "f57f962c",
   "metadata": {},
   "source": [
    "<div >\n",
    "\n",
    "Functions we need to incorporate in hybrid sort:   \n",
    "  \n",
    "- recursion (from mergesort) to break up the array into subarrays of size = S\n",
    "- merge() function to merge the subarrays at the end\n",
    "- Insertion sort for subarrays of size S \n",
    "\n",
    "\n",
    "</div>"
   ]
  },
  {
   "cell_type": "markdown",
   "id": "9f39eea6",
   "metadata": {},
   "source": [
    "### (a) Our implementation of Hybrid Sort: "
   ]
  },
  {
   "cell_type": "code",
   "execution_count": 9,
   "id": "1c58f82d",
   "metadata": {},
   "outputs": [],
   "source": [
    "def insertion_merge_hybird_sort(arr, S=16): # use S=16 as default threshold\n",
    "    \"\"\"Sorts an array using mergesort splitting until subarrays are size S, then use Insertion sort for those small subarrays, then merge back up.\"\"\"\n",
    "    if len(arr) <= S:\n",
    "        sorted_arr, comparisons = insertion_sort(arr) # use the insertion sort for the broken up arrays that are <= S size\n",
    "        return sorted_arr, comparisons\n",
    "    else:\n",
    "        mid = len(arr) // 2 # find the middle index\n",
    "\n",
    "        # split and sort the two halves recursively, then merge and return total comparisons\n",
    "        # also count comparisons made in the insertion sorts\n",
    "        left, comp_left = insertion_merge_hybird_sort(arr[:mid], S)\n",
    "        right, comp_right = insertion_merge_hybird_sort(arr[mid:], S)\n",
    "        merged = merge(left, right)\n",
    "\n",
    "        return merged, comp_left + comp_right # returns the merged sorted array and total comparisons made in the hybrid sort\n",
    "    \n",
    "# small helper function to check if an array is sorted\n",
    "def sorted_check(arr):\n",
    "    \"\"\"Helper function to check if an array is sorted.\"\"\"\n",
    "    for i in range(len(arr) - 1):\n",
    "        if arr[i] > arr[i + 1]:\n",
    "            return False\n",
    "    return True\n"
   ]
  },
  {
   "cell_type": "markdown",
   "id": "cd207c67",
   "metadata": {},
   "source": [
    "We used a value of 16 for the threshold, S   \n",
    "This is because :\n",
    "- it is a small value, which is efficient for insertion sort, and \n",
    "- it is big enough to make a difference by reducing the number of array splits. \n",
    "- Moreover, it is similar to that of the hybrid introspective sort, which uses a threshold of array size = 16 to switch to insertion sort \n",
    " \n",
    "This gives us a reasonable baseline for S to work with, and find the optimal S through empirical study"
   ]
  },
  {
   "cell_type": "markdown",
   "id": "4a9e7caf",
   "metadata": {},
   "source": [
    "### (b) Generating Input Data: "
   ]
  },
  {
   "cell_type": "markdown",
   "id": "e07affaf",
   "metadata": {},
   "source": [
    "we generated input data to test the hybrid algorithm:   \n",
    "  \n",
    "we need:\n",
    "- arrays of increasing sizes, in a range from 1000 to 10 million \n",
    "- For each of the sizes, a random dataset of integers : [1,..., x]\n",
    "- The maximum value allowed in the dataset would be the the respective maximum sizes of the arrays\n",
    "eg. array size of 1000: x = 1000 \n",
    "- This is to increase chances of duplicate data for testing \n"
   ]
  },
  {
   "cell_type": "markdown",
   "id": "f012a5c6",
   "metadata": {},
   "source": [
    "1. number of different arrays to test : "
   ]
  },
  {
   "cell_type": "code",
   "execution_count": 10,
   "id": "a9d46dbf",
   "metadata": {},
   "outputs": [],
   "source": [
    "arr_size = list(range(1000, 10_001, 1000)) \\\n",
    "         + list(range(20_000, 100_001, 10_000)) \\\n",
    "         + list(range(200_000, 1_000_001, 100_000)) \\\n",
    "         + list(range(2_000_000, 10_000_001, 1_000_000))\n",
    "\n",
    "# generates array sizes from 1000 to 10 million \n",
    "# 1000 to 10,000 - 10 sizes\n",
    "# 20,000 to 100,000 - 9 sizes\n",
    "# 200,000 to 1,000,000 - 9 sizes\n",
    "# 2,000,000 to 10,000,000 - 9 sizes\n",
    "# total of 37 different sizes of arrays to test"
   ]
  },
  {
   "cell_type": "markdown",
   "id": "6add32a1",
   "metadata": {},
   "source": [
    "2. datasets for each array : "
   ]
  },
  {
   "cell_type": "code",
   "execution_count": 11,
   "id": "de02c07a",
   "metadata": {},
   "outputs": [],
   "source": [
    "import random\n",
    "\n",
    "list_of_arrays = []\n",
    "\n",
    "for x in arr_size:\n",
    "    arr = [ random.randint(1, x) for _ in range(x)] # generate random arrays from 1 to (size of array) AKA x for those 37 sizes in arr_size\n",
    "    list_of_arrays.append(arr)"
   ]
  },
  {
   "cell_type": "markdown",
   "id": "18c448da",
   "metadata": {},
   "source": [
    "Analyze Time Complexity: "
   ]
  },
  {
   "cell_type": "markdown",
   "id": "a12bb8ed",
   "metadata": {},
   "source": [
    "running the code and recording the number of key comparisons in each case "
   ]
  },
  {
   "cell_type": "code",
   "execution_count": 12,
   "id": "be049f5e",
   "metadata": {},
   "outputs": [
    {
     "name": "stdout",
     "output_type": "stream",
     "text": [
      "-------------------------------\n",
      "Array size: 1000\n",
      "Key comparisons: 4474\n",
      "Sorted check: True\n",
      "-------------------------------\n",
      "Array size: 2000\n",
      "Key comparisons: 8835\n",
      "Sorted check: True\n",
      "-------------------------------\n",
      "Array size: 3000\n",
      "Key comparisons: 10225\n",
      "Sorted check: True\n",
      "-------------------------------\n",
      "Array size: 4000\n",
      "Key comparisons: 17955\n",
      "Sorted check: True\n",
      "-------------------------------\n",
      "Array size: 5000\n",
      "Key comparisons: 14376\n",
      "Sorted check: True\n",
      "-------------------------------\n",
      "Array size: 6000\n",
      "Key comparisons: 20494\n",
      "Sorted check: True\n",
      "-------------------------------\n",
      "Array size: 7000\n",
      "Key comparisons: 27737\n",
      "Sorted check: True\n",
      "-------------------------------\n",
      "Array size: 8000\n",
      "Key comparisons: 35672\n",
      "Sorted check: True\n",
      "-------------------------------\n",
      "Array size: 9000\n",
      "Key comparisons: 23693\n",
      "Sorted check: True\n",
      "-------------------------------\n",
      "Array size: 10000\n",
      "Key comparisons: 28680\n",
      "Sorted check: True\n",
      "-------------------------------\n",
      "Array size: 20000\n",
      "Key comparisons: 58135\n",
      "Sorted check: True\n",
      "-------------------------------\n",
      "Array size: 30000\n",
      "Key comparisons: 125415\n",
      "Sorted check: True\n",
      "-------------------------------\n",
      "Array size: 40000\n",
      "Key comparisons: 116179\n",
      "Sorted check: True\n",
      "-------------------------------\n",
      "Array size: 50000\n",
      "Key comparisons: 176963\n",
      "Sorted check: True\n",
      "-------------------------------\n",
      "Array size: 60000\n",
      "Key comparisons: 251603\n",
      "Sorted check: True\n",
      "-------------------------------\n",
      "Array size: 70000\n",
      "Key comparisons: 179591\n",
      "Sorted check: True\n",
      "-------------------------------\n",
      "Array size: 80000\n",
      "Key comparisons: 230816\n",
      "Sorted check: True\n",
      "-------------------------------\n",
      "Array size: 90000\n",
      "Key comparisons: 289782\n",
      "Sorted check: True\n",
      "-------------------------------\n",
      "Array size: 100000\n",
      "Key comparisons: 354751\n",
      "Sorted check: True\n",
      "-------------------------------\n",
      "Array size: 200000\n",
      "Key comparisons: 711273\n",
      "Sorted check: True\n",
      "-------------------------------\n",
      "Array size: 300000\n",
      "Key comparisons: 818193\n",
      "Sorted check: True\n",
      "-------------------------------\n",
      "Array size: 400000\n",
      "Key comparisons: 1419887\n",
      "Sorted check: True\n",
      "-------------------------------\n",
      "Array size: 500000\n",
      "Key comparisons: 2175686\n",
      "Sorted check: True\n",
      "-------------------------------\n",
      "Array size: 600000\n",
      "Key comparisons: 1640058\n",
      "Sorted check: True\n",
      "-------------------------------\n",
      "Array size: 700000\n",
      "Key comparisons: 2204246\n",
      "Sorted check: True\n",
      "-------------------------------\n",
      "Array size: 800000\n",
      "Key comparisons: 2839347\n",
      "Sorted check: True\n",
      "-------------------------------\n",
      "Array size: 900000\n",
      "Key comparisons: 3557227\n",
      "Sorted check: True\n",
      "-------------------------------\n",
      "Array size: 1000000\n",
      "Key comparisons: 4346734\n",
      "Sorted check: True\n",
      "-------------------------------\n",
      "Array size: 2000000\n",
      "Key comparisons: 8695374\n",
      "Sorted check: True\n",
      "-------------------------------\n",
      "Array size: 3000000\n",
      "Key comparisons: 10050608\n",
      "Sorted check: True\n",
      "-------------------------------\n",
      "Array size: 4000000\n",
      "Key comparisons: 17395860\n",
      "Sorted check: True\n",
      "-------------------------------\n",
      "Array size: 5000000\n",
      "Key comparisons: 14190508\n",
      "Sorted check: True\n",
      "-------------------------------\n",
      "Array size: 6000000\n",
      "Key comparisons: 20089503\n",
      "Sorted check: True\n",
      "-------------------------------\n",
      "Array size: 7000000\n",
      "Key comparisons: 26969421\n",
      "Sorted check: True\n",
      "-------------------------------\n",
      "Array size: 8000000\n",
      "Key comparisons: 34794221\n",
      "Sorted check: True\n",
      "-------------------------------\n",
      "Array size: 9000000\n",
      "Key comparisons: 23208398\n",
      "Sorted check: True\n",
      "-------------------------------\n",
      "Array size: 10000000\n",
      "Key comparisons: 28385545\n",
      "Sorted check: True\n"
     ]
    }
   ],
   "source": [
    "import time\n",
    "import matplotlib.pyplot as plt\n",
    "\n",
    "if __name__ == \"__main__\":\n",
    "    for arr in list_of_arrays:\n",
    "        print('-------------------------------')\n",
    "        print(\"Array size:\", len(arr))\n",
    "        sorted_arr, comparisons = insertion_merge_hybird_sort(arr)\n",
    "        print(\"Key comparisons:\", comparisons)\n",
    "        print(\"Sorted check:\", sorted_check(sorted_arr))"
   ]
  },
  {
   "cell_type": "markdown",
   "id": "7520f165",
   "metadata": {},
   "source": [
    "Now to make the results clearer, lets represent it on a graph of array size against number of key comparisons and a graph of array size against time taken"
   ]
  },
  {
   "cell_type": "code",
   "execution_count": null,
   "id": "1d1430b1",
   "metadata": {},
   "outputs": [],
   "source": [
    "# Generating a graph of array size vs key comparisons\n",
    "if __name__ == \"__main__\":\n",
    "    sizes = []\n",
    "    comparisons_list = []\n",
    "    \n",
    "    for arr in list_of_arrays:\n",
    "        "
   ]
  },
  {
   "cell_type": "markdown",
   "id": "27e61735",
   "metadata": {},
   "source": [
    "Theoretical analysis of the time complexity: "
   ]
  },
  {
   "cell_type": "markdown",
   "id": "d0e241ef",
   "metadata": {},
   "source": [
    "..."
   ]
  },
  {
   "cell_type": "markdown",
   "id": "2162fb56",
   "metadata": {},
   "source": [
    "With  the  value  of  S  fixed,  plot  the  number  of  key  comparisons  over \n",
    "different sizes of the input list n."
   ]
  },
  {
   "cell_type": "code",
   "execution_count": null,
   "id": "941a1075",
   "metadata": {},
   "outputs": [],
   "source": []
  },
  {
   "cell_type": "markdown",
   "id": "f227a39f",
   "metadata": {},
   "source": [
    "Compare empirical results with the theoretical analysis "
   ]
  },
  {
   "cell_type": "markdown",
   "id": "914a3988",
   "metadata": {},
   "source": [
    "compare here "
   ]
  },
  {
   "cell_type": "markdown",
   "id": "c00f874c",
   "metadata": {},
   "source": [
    "With the input size n fixed, plot the number of key comparisons over \n",
    "different  values  of  S."
   ]
  },
  {
   "cell_type": "code",
   "execution_count": null,
   "id": "c0542137",
   "metadata": {},
   "outputs": [],
   "source": []
  },
  {
   "cell_type": "markdown",
   "id": "027375e6",
   "metadata": {},
   "source": [
    "Compare empirical results with the theoretical analysis "
   ]
  },
  {
   "cell_type": "markdown",
   "id": "3c8f5339",
   "metadata": {},
   "source": [
    "Using  different  sizes  of  input  datasets,  study  how  to  determine  an \n",
    "optimal value of S for the best performance of this hybrid algorithm."
   ]
  },
  {
   "cell_type": "code",
   "execution_count": null,
   "id": "51592ffa",
   "metadata": {},
   "outputs": [],
   "source": []
  },
  {
   "cell_type": "markdown",
   "id": "c9ac681a",
   "metadata": {},
   "source": [
    "Compare hybrid sort with original mergesort "
   ]
  },
  {
   "cell_type": "markdown",
   "id": "5b4b3715",
   "metadata": {},
   "source": [
    "Implement  the  original  version  of \n",
    "Mergesort (as learnt in lecture). Compare its performance against the above \n",
    "hybrid algorithm in terms of the number of key comparisons and CPU times on \n",
    "the dataset with 10 million integers. You can use the optimal value of S obtained \n",
    "in (c) for this task. "
   ]
  },
  {
   "cell_type": "code",
   "execution_count": null,
   "id": "73099c37",
   "metadata": {},
   "outputs": [],
   "source": []
  },
  {
   "cell_type": "markdown",
   "id": "b0f1d7ff",
   "metadata": {},
   "source": [
    "## Conclusion: "
   ]
  },
  {
   "cell_type": "markdown",
   "id": "d630b1b2",
   "metadata": {},
   "source": [
    "we notice that "
   ]
  }
 ],
 "metadata": {
  "kernelspec": {
   "display_name": "Python 3",
   "language": "python",
   "name": "python3"
  },
  "language_info": {
   "codemirror_mode": {
    "name": "ipython",
    "version": 3
   },
   "file_extension": ".py",
   "mimetype": "text/x-python",
   "name": "python",
   "nbconvert_exporter": "python",
   "pygments_lexer": "ipython3",
   "version": "3.12.5"
  }
 },
 "nbformat": 4,
 "nbformat_minor": 5
}
